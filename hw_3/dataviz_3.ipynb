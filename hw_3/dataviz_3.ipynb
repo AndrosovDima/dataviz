{
  "nbformat": 4,
  "nbformat_minor": 0,
  "metadata": {
    "colab": {
      "name": "dataviz-3.ipynb",
      "provenance": [],
      "collapsed_sections": [],
      "toc_visible": true
    },
    "kernelspec": {
      "name": "python3",
      "display_name": "Python 3"
    },
    "language_info": {
      "name": "python"
    }
  },
  "cells": [
    {
      "cell_type": "markdown",
      "metadata": {
        "id": "cHVdT9l5JwWf"
      },
      "source": [
        "# Выполнил Андросов Дмитрий, М05-012б\n",
        "## Label placement"
      ]
    },
    {
      "cell_type": "markdown",
      "metadata": {
        "id": "H9UcIikOO5F4"
      },
      "source": [
        "Ссылка на github репозиторий: \\\n",
        "https://github.com/AndrosovDima/dataviz/tree/main/hw_3"
      ]
    },
    {
      "cell_type": "markdown",
      "metadata": {
        "id": "-b-YntM_O8yh"
      },
      "source": [
        "Сколнируем репозиторий, чтобы иметь возможность читать файл с деревом оттуда"
      ]
    },
    {
      "cell_type": "code",
      "metadata": {
        "colab": {
          "base_uri": "https://localhost:8080/"
        },
        "id": "qVIbUz44GUpg",
        "outputId": "0b01e459-a227-4098-c341-fd9f2a50e5ba"
      },
      "source": [
        "! git clone https://github.com/AndrosovDima/dataviz"
      ],
      "execution_count": null,
      "outputs": [
        {
          "output_type": "stream",
          "text": [
            "Cloning into 'dataviz'...\n",
            "remote: Enumerating objects: 166, done.\u001b[K\n",
            "remote: Counting objects: 100% (166/166), done.\u001b[K\n",
            "remote: Compressing objects: 100% (155/155), done.\u001b[K\n",
            "remote: Total 166 (delta 49), reused 0 (delta 0), pack-reused 0\u001b[K\n",
            "Receiving objects: 100% (166/166), 467.16 KiB | 5.19 MiB/s, done.\n",
            "Resolving deltas: 100% (49/49), done.\n"
          ],
          "name": "stdout"
        }
      ]
    },
    {
      "cell_type": "code",
      "metadata": {
        "id": "xTQJ5jcfO_Ap"
      },
      "source": [
        "from dataviz.hw_3.boxes_parse import Box"
      ],
      "execution_count": null,
      "outputs": []
    },
    {
      "cell_type": "code",
      "metadata": {
        "id": "qkI-HLsiRc5a"
      },
      "source": [
        "with open('dataviz/hw_3/hard5.txt', 'r') as f:\n",
        "  raw_data = f.read()"
      ],
      "execution_count": null,
      "outputs": []
    },
    {
      "cell_type": "code",
      "metadata": {
        "id": "EGSVZcBAR5t4"
      },
      "source": [
        "boxes = [Box(line, f'x_{i}') for i, line in enumerate(raw_data.strip().split('\\n'))]"
      ],
      "execution_count": null,
      "outputs": []
    },
    {
      "cell_type": "code",
      "metadata": {
        "colab": {
          "base_uri": "https://localhost:8080/"
        },
        "id": "wAzcnRxgSVCw",
        "outputId": "f65f88f3-f48b-4baa-c9b2-a6ccae47fa3b"
      },
      "source": [
        "boxes"
      ],
      "execution_count": null,
      "outputs": [
        {
          "output_type": "execute_result",
          "data": {
            "text/plain": [
              "[Box(name=x_0, pos=(97, 148), size=(59, 25), offsets={0: (0, 0), 1: (59, 0), 2: (0, 25), 3: (59, 25)}),\n",
              " Box(name=x_1, pos=(49, 75), size=(36, 46), offsets={0: (0, 0), 1: (36, 0), 2: (0, 46), 3: (36, 46)}),\n",
              " Box(name=x_2, pos=(61, 15), size=(24, 20), offsets={0: (0, 0), 1: (24, 0), 2: (0, 10), 3: (24, 10), 4: (0, 20), 5: (24, 20)}),\n",
              " Box(name=x_3, pos=(141, 166), size=(10, 31), offsets={0: (0, 0), 1: (5, 0), 2: (10, 0), 3: (0, 31), 4: (5, 31), 5: (10, 31)}),\n",
              " Box(name=x_4, pos=(137, 34), size=(42, 42), offsets={0: (0, 0), 1: (42, 0), 2: (0, 21), 3: (42, 21), 4: (0, 42), 5: (42, 42)}),\n",
              " Box(name=x_5, pos=(121, 92), size=(36, 21), offsets={0: (0, 0), 1: (36, 0), 2: (0, 21), 3: (36, 21)}),\n",
              " Box(name=x_6, pos=(172, 117), size=(21, 19), offsets={0: (0, 0), 1: (21, 0), 2: (0, 19), 3: (21, 19)}),\n",
              " Box(name=x_7, pos=(137, 122), size=(54, 30), offsets={0: (0, 0), 1: (54, 0), 2: (0, 15), 3: (54, 15), 4: (0, 30), 5: (54, 30)}),\n",
              " Box(name=x_8, pos=(99, 161), size=(19, 22), offsets={0: (0, 0), 1: (19, 0), 2: (0, 22), 3: (19, 22)}),\n",
              " Box(name=x_9, pos=(87, 20), size=(24, 25), offsets={0: (0, 0), 1: (8, 0), 2: (16, 0), 3: (24, 0), 4: (0, 25), 5: (8, 25), 6: (16, 25), 7: (24, 25)}),\n",
              " Box(name=x_10, pos=(134, 161), size=(49, 18), offsets={0: (0, 0), 1: (49, 0), 2: (0, 18), 3: (49, 18)}),\n",
              " Box(name=x_11, pos=(84, 187), size=(38, 13), offsets={0: (0, 0), 1: (19, 0), 2: (38, 0), 3: (0, 13), 4: (19, 13), 5: (38, 13)}),\n",
              " Box(name=x_12, pos=(76, 141), size=(57, 18), offsets={0: (0, 0), 1: (57, 0), 2: (0, 18), 3: (57, 18)}),\n",
              " Box(name=x_13, pos=(111, 15), size=(15, 45), offsets={0: (0, 0), 1: (5, 0), 2: (10, 0), 3: (15, 0), 4: (0, 45), 5: (5, 45), 6: (10, 45), 7: (15, 45)}),\n",
              " Box(name=x_14, pos=(189, 162), size=(30, 19), offsets={0: (0, 0), 1: (10, 0), 2: (20, 0), 3: (30, 0), 4: (0, 19), 5: (10, 19), 6: (20, 19), 7: (30, 19)}),\n",
              " Box(name=x_15, pos=(181, 6), size=(28, 26), offsets={0: (0, 0), 1: (14, 0), 2: (28, 0), 3: (0, 26), 4: (14, 26), 5: (28, 26)}),\n",
              " Box(name=x_16, pos=(20, 147), size=(24, 17), offsets={0: (0, 0), 1: (8, 0), 2: (16, 0), 3: (24, 0), 4: (0, 17), 5: (8, 17), 6: (16, 17), 7: (24, 17)}),\n",
              " Box(name=x_17, pos=(57, 53), size=(31, 15), offsets={0: (0, 0), 1: (31, 0), 2: (0, 15), 3: (31, 15)}),\n",
              " Box(name=x_18, pos=(203, 138), size=(15, 20), offsets={0: (0, 0), 1: (15, 0), 2: (0, 20), 3: (15, 20)}),\n",
              " Box(name=x_19, pos=(39, 179), size=(14, 25), offsets={0: (0, 0), 1: (14, 0), 2: (0, 25), 3: (14, 25)}),\n",
              " Box(name=x_20, pos=(185, 65), size=(16, 42), offsets={0: (0, 0), 1: (16, 0), 2: (0, 42), 3: (16, 42)}),\n",
              " Box(name=x_21, pos=(71, 97), size=(12, 47), offsets={0: (0, 0), 1: (12, 0), 2: (0, 47), 3: (12, 47)})]"
            ]
          },
          "metadata": {
            "tags": []
          },
          "execution_count": 6
        }
      ]
    },
    {
      "cell_type": "markdown",
      "metadata": {
        "id": "mXQUAMjcOYsN"
      },
      "source": [
        "Функция, которая для двух прямоугольников говорит, пересекаются ли они"
      ]
    },
    {
      "cell_type": "code",
      "metadata": {
        "id": "dEFzy1ip-Jf4"
      },
      "source": [
        "def is_crossing(offset_1, pos_1, size_1, offset_2, pos_2, size_2):\n",
        "  \n",
        "  # координаты вершин прямоугольников\n",
        "  coord_1_left_up = (pos_1[0] - offset_1[0], pos_1[1] - offset_1[1])\n",
        "  coord_1_left_down = (coord_1_left_up[0], coord_1_left_up[1] + size_1[1])\n",
        "  coord_1_right_up = (coord_1_left_up[0] + size_1[0], coord_1_left_up[1])\n",
        "  coord_1_right_down = (coord_1_right_up[0], coord_1_left_down[1])\n",
        "\n",
        "  coord_2_left_up = (pos_2[0] - offset_2[0], pos_2[1] - offset_2[1])\n",
        "  coord_2_left_down = (coord_2_left_up[0], coord_2_left_up[1] + size_2[1])\n",
        "  coord_2_right_up = (coord_2_left_up[0] + size_2[0], coord_2_left_up[1])\n",
        "  coord_2_right_down = (coord_2_right_up[0], coord_2_left_down[1])\n",
        "\n",
        "  for x, y in [coord_2_left_up, coord_2_left_down, coord_2_right_up, coord_2_right_down]:\n",
        "    if x >= coord_1_left_down[0] and x <= coord_1_right_down[0] and \\\n",
        "      y >= coord_1_left_up[1] and y <= coord_1_left_down[1]:\n",
        "      return True\n",
        "\n",
        "  for x, y in [coord_1_left_up, coord_1_left_down, coord_1_right_up, coord_1_right_down]:\n",
        "    if x >= coord_2_left_down[0] and x <= coord_2_right_down[0] and \\\n",
        "      y >= coord_2_left_up[1] and y <= coord_2_left_down[1]:\n",
        "      return True\n",
        "  \n",
        "  if coord_1_left_up[0] >= coord_2_left_up[0] and coord_1_right_up[0] <= coord_2_right_up[0] and \\\n",
        "    coord_1_left_up[1] <= coord_2_left_up[1] and coord_1_left_down[1] >= coord_2_left_down[1] or \\\n",
        "    coord_2_left_up[0] >= coord_1_left_up[0] and coord_2_right_up[0] <= coord_1_right_up[0] and \\\n",
        "    coord_2_left_up[1] <= coord_1_left_up[1] and coord_2_left_down[1] >= coord_1_left_down[1]:\n",
        "    return True\n",
        "  \n",
        "  return False"
      ],
      "execution_count": null,
      "outputs": []
    },
    {
      "cell_type": "markdown",
      "metadata": {
        "id": "iBEksFk-Ol9y"
      },
      "source": [
        "Функция, которая для двух точек говорит, какие их прямоугольники пересекаются"
      ]
    },
    {
      "cell_type": "code",
      "metadata": {
        "id": "z7nC40XeSaE3"
      },
      "source": [
        "def crossings_between_boxes(x1, x2):\n",
        "  crossings = []\n",
        "  for k_1 in x1.offsets.keys():\n",
        "    pos_1 = x1.pos.xy\n",
        "    size_1 = x1.size.xy\n",
        "    for k_2 in x2.offsets.keys():\n",
        "      pos_2 = x2.pos.xy\n",
        "      size_2 = x2.size.xy\n",
        "      if is_crossing(x1.offsets[k_1].xy, pos_1, size_1, x2.offsets[k_2].xy, pos_2, size_2):\n",
        "        crossings.append((x1.name, k_1, x2.name, k_2))\n",
        "  return crossings"
      ],
      "execution_count": null,
      "outputs": []
    },
    {
      "cell_type": "markdown",
      "metadata": {
        "id": "Y7kHAkjnOt64"
      },
      "source": [
        "Функция, которая для всех пар точек говорит, какие прямоугольники пересекаются"
      ]
    },
    {
      "cell_type": "code",
      "metadata": {
        "id": "B5EyHuY5EPVI"
      },
      "source": [
        "def get_constraints(boxes):\n",
        "  constraints = []\n",
        "  for index_1 in range(len(boxes)):\n",
        "    for index_2 in range(index_1 + 1, len(boxes)):\n",
        "      constraints += crossings_between_boxes(boxes[index_1], boxes[index_2])\n",
        "  return constraints"
      ],
      "execution_count": null,
      "outputs": []
    },
    {
      "cell_type": "code",
      "metadata": {
        "colab": {
          "base_uri": "https://localhost:8080/"
        },
        "id": "uSIOYMyxPkHT",
        "outputId": "b8945f53-e1f7-4d0e-de75-fd3da8c99d24"
      },
      "source": [
        "!pip install python-constraint"
      ],
      "execution_count": null,
      "outputs": [
        {
          "output_type": "stream",
          "text": [
            "Requirement already satisfied: python-constraint in /usr/local/lib/python3.7/dist-packages (1.4.0)\n"
          ],
          "name": "stdout"
        }
      ]
    },
    {
      "cell_type": "code",
      "metadata": {
        "id": "URsFjjipeTfh"
      },
      "source": [
        "from constraint import Problem"
      ],
      "execution_count": null,
      "outputs": []
    },
    {
      "cell_type": "code",
      "metadata": {
        "id": "NfzI5L7ovpuw"
      },
      "source": [
        "def lambda_constraint(constraint):\n",
        "  return lambda a, b: a != constraint[1] or b != constraint[3]"
      ],
      "execution_count": null,
      "outputs": []
    },
    {
      "cell_type": "code",
      "metadata": {
        "id": "kNPGIVbseXoP"
      },
      "source": [
        "def solving_problem_constraint(boxes):\n",
        "  problem = Problem()\n",
        "  for box in boxes:\n",
        "    num_vals = len(box.offsets)\n",
        "    problem.addVariable(box.name, list(range(num_vals)))\n",
        "  constraints = get_constraints(boxes)\n",
        "  for constraint in constraints:\n",
        "    problem.addConstraint(lambda_constraint(constraint), (constraint[0], constraint[2]))\n",
        "  print(problem.getSolution())\n",
        "  return problem.getSolution()"
      ],
      "execution_count": null,
      "outputs": []
    },
    {
      "cell_type": "code",
      "metadata": {
        "colab": {
          "base_uri": "https://localhost:8080/"
        },
        "id": "UTH9DO7CTax2",
        "outputId": "a5b45bb8-89fb-4604-d227-ec9c155f7d6c"
      },
      "source": [
        "solution = solving_problem_constraint(boxes)"
      ],
      "execution_count": null,
      "outputs": [
        {
          "output_type": "stream",
          "text": [
            "{'x_7': 3, 'x_9': 7, 'x_0': 1, 'x_4': 4, 'x_10': 2, 'x_12': 3, 'x_13': 7, 'x_3': 2, 'x_8': 2, 'x_21': 3, 'x_1': 1, 'x_16': 3, 'x_14': 4, 'x_2': 1, 'x_6': 3, 'x_20': 2, 'x_5': 2, 'x_17': 3, 'x_15': 3, 'x_18': 3, 'x_19': 1, 'x_11': 5}\n"
          ],
          "name": "stdout"
        }
      ]
    },
    {
      "cell_type": "code",
      "metadata": {
        "colab": {
          "base_uri": "https://localhost:8080/",
          "height": 592
        },
        "id": "GmwKio9GzMgn",
        "outputId": "02b80f0b-22d5-401e-97fb-a2a2a51834f8"
      },
      "source": [
        "import matplotlib.pyplot as plt\n",
        "from matplotlib.patches import Rectangle\n",
        "\n",
        "fig, ax = plt.subplots()\n",
        "\n",
        "fig.set_figheight(10)\n",
        "fig.set_figwidth(15)\n",
        "\n",
        "for box in boxes:\n",
        "  ax.add_patch(Rectangle((box.pos.xy[0] - box.offsets[solution[box.name]].xy[0], box.pos.xy[1] - box.offsets[solution[box.name]].xy[1]), \\\n",
        "                         box.size.xy[0], box.size.xy[1], edgecolor='r'))\n",
        "  ax.scatter(box.pos.xy[0], box.pos.xy[1])\n",
        "\n",
        "\n",
        "plt.savefig('hard5.png')\n",
        "plt.show()"
      ],
      "execution_count": null,
      "outputs": [
        {
          "output_type": "display_data",
          "data": {
            "image/png": "[encoded data removed]",
            "text/plain": [
              "<Figure size 1080x720 with 1 Axes>"
            ]
          },
          "metadata": {
            "tags": [],
            "needs_background": "light"
          }
        }
      ]
    },
    {
      "cell_type": "code",
      "metadata": {
        "id": "2NKx7Gy9z8qB"
      },
      "source": [
        ""
      ],
      "execution_count": null,
      "outputs": []
    }
  ]
}