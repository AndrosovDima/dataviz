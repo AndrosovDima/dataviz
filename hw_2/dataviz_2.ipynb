{
  "nbformat": 4,
  "nbformat_minor": 0,
  "metadata": {
    "colab": {
      "name": "dataviz-2.ipynb",
      "provenance": [],
      "collapsed_sections": []
    },
    "kernelspec": {
      "name": "python3",
      "display_name": "Python 3"
    },
    "language_info": {
      "name": "python"
    }
  },
  "cells": [
    {
      "cell_type": "markdown",
      "metadata": {
        "id": "eoD2chdoRplm"
      },
      "source": [
        "# Выполнил Андросов Дмитрий, М05-012б\n",
        "## Визуализация ациклических орграфов"
      ]
    },
    {
      "cell_type": "markdown",
      "metadata": {
        "id": "Mw7wjV8RYYhW"
      },
      "source": [
        "Ссылка на github репозиторий: \\\n",
        "https://github.com/AndrosovDima/dataviz/tree/main/hw_2\n"
      ]
    },
    {
      "cell_type": "markdown",
      "metadata": {
        "id": "_j6Rt5grYjxM"
      },
      "source": [
        "Сколнируем репозиторий, чтобы иметь возможность читать файл с деревом оттуда"
      ]
    },
    {
      "cell_type": "code",
      "metadata": {
        "colab": {
          "base_uri": "https://localhost:8080/"
        },
        "id": "NemikXG9Yg90",
        "outputId": "64f5c271-bca8-48a3-99e8-4696ca90361c"
      },
      "source": [
        "! git clone https://github.com/AndrosovDima/dataviz"
      ],
      "execution_count": 1,
      "outputs": [
        {
          "output_type": "stream",
          "text": [
            "fatal: destination path 'dataviz' already exists and is not an empty directory.\n"
          ],
          "name": "stdout"
        }
      ]
    },
    {
      "cell_type": "code",
      "metadata": {
        "id": "lzsl-7Cb6PXq"
      },
      "source": [
        "import numpy as np\n",
        "from scipy.optimize import linprog"
      ],
      "execution_count": 2,
      "outputs": []
    },
    {
      "cell_type": "code",
      "metadata": {
        "id": "jZi6TPMVV9yz",
        "colab": {
          "base_uri": "https://localhost:8080/"
        },
        "outputId": "443eefd5-1135-47ff-bcf3-6fdb197b3a01"
      },
      "source": [
        "import networkx as nx\n",
        "G = nx.read_graphml('dataviz/hw_2/small_dag.graphml')"
      ],
      "execution_count": 3,
      "outputs": [
        {
          "output_type": "stream",
          "text": [
            "/usr/local/lib/python3.7/dist-packages/networkx/readwrite/graphml.py:946: UserWarning: No key type for id d4. Using string\n",
            "  warnings.warn(f\"No key type for id {attr_id}. Using string\")\n",
            "/usr/local/lib/python3.7/dist-packages/networkx/readwrite/graphml.py:946: UserWarning: No key type for id d5. Using string\n",
            "  warnings.warn(f\"No key type for id {attr_id}. Using string\")\n",
            "/usr/local/lib/python3.7/dist-packages/networkx/readwrite/graphml.py:946: UserWarning: No key type for id d6. Using string\n",
            "  warnings.warn(f\"No key type for id {attr_id}. Using string\")\n",
            "/usr/local/lib/python3.7/dist-packages/networkx/readwrite/graphml.py:946: UserWarning: No key type for id d7. Using string\n",
            "  warnings.warn(f\"No key type for id {attr_id}. Using string\")\n",
            "/usr/local/lib/python3.7/dist-packages/networkx/readwrite/graphml.py:946: UserWarning: No key type for id d8. Using string\n",
            "  warnings.warn(f\"No key type for id {attr_id}. Using string\")\n",
            "/usr/local/lib/python3.7/dist-packages/networkx/readwrite/graphml.py:946: UserWarning: No key type for id d11. Using string\n",
            "  warnings.warn(f\"No key type for id {attr_id}. Using string\")\n",
            "/usr/local/lib/python3.7/dist-packages/networkx/readwrite/graphml.py:946: UserWarning: No key type for id d12. Using string\n",
            "  warnings.warn(f\"No key type for id {attr_id}. Using string\")\n",
            "/usr/local/lib/python3.7/dist-packages/networkx/readwrite/graphml.py:946: UserWarning: No key type for id d13. Using string\n",
            "  warnings.warn(f\"No key type for id {attr_id}. Using string\")\n",
            "/usr/local/lib/python3.7/dist-packages/networkx/readwrite/graphml.py:946: UserWarning: No key type for id d14. Using string\n",
            "  warnings.warn(f\"No key type for id {attr_id}. Using string\")\n",
            "/usr/local/lib/python3.7/dist-packages/networkx/readwrite/graphml.py:946: UserWarning: No key type for id d15. Using string\n",
            "  warnings.warn(f\"No key type for id {attr_id}. Using string\")\n",
            "/usr/local/lib/python3.7/dist-packages/networkx/readwrite/graphml.py:946: UserWarning: No key type for id d16. Using string\n",
            "  warnings.warn(f\"No key type for id {attr_id}. Using string\")\n",
            "/usr/local/lib/python3.7/dist-packages/networkx/readwrite/graphml.py:946: UserWarning: No key type for id d17. Using string\n",
            "  warnings.warn(f\"No key type for id {attr_id}. Using string\")\n",
            "/usr/local/lib/python3.7/dist-packages/networkx/readwrite/graphml.py:946: UserWarning: No key type for id d18. Using string\n",
            "  warnings.warn(f\"No key type for id {attr_id}. Using string\")\n",
            "/usr/local/lib/python3.7/dist-packages/networkx/readwrite/graphml.py:946: UserWarning: No key type for id d19. Using string\n",
            "  warnings.warn(f\"No key type for id {attr_id}. Using string\")\n",
            "/usr/local/lib/python3.7/dist-packages/networkx/readwrite/graphml.py:827: UserWarning: GraphML port tag not supported.\n",
            "  warnings.warn(\"GraphML port tag not supported.\")\n"
          ],
          "name": "stderr"
        }
      ]
    },
    {
      "cell_type": "code",
      "metadata": {
        "colab": {
          "base_uri": "https://localhost:8080/"
        },
        "id": "clgG0N_rsr_a",
        "outputId": "d0088644-803f-4b60-9ad7-60c4a1387bc5"
      },
      "source": [
        "def get_nodes(graph):\n",
        "  nodes = []\n",
        "  for l in graph.adjacency():\n",
        "    nodes.append(l[0])\n",
        "  return nodes\n",
        "\n",
        "nodes = get_nodes(G)\n",
        "nodes"
      ],
      "execution_count": 4,
      "outputs": [
        {
          "output_type": "execute_result",
          "data": {
            "text/plain": [
              "['n0',\n",
              " 'n1',\n",
              " 'n2',\n",
              " 'n3',\n",
              " 'n4',\n",
              " 'n5',\n",
              " 'n6',\n",
              " 'n7',\n",
              " 'n8',\n",
              " 'n9',\n",
              " 'n10',\n",
              " 'n11',\n",
              " 'n12',\n",
              " 'n13',\n",
              " 'n14']"
            ]
          },
          "metadata": {
            "tags": []
          },
          "execution_count": 4
        }
      ]
    },
    {
      "cell_type": "code",
      "metadata": {
        "colab": {
          "base_uri": "https://localhost:8080/"
        },
        "id": "5LMEBX-9SaVH",
        "outputId": "39d7a54e-16da-4dda-8f9e-8defa5cabec6"
      },
      "source": [
        "def get_edges(graph):\n",
        "  edges = []\n",
        "  for e in graph.edges:\n",
        "    edges.append(e)\n",
        "  return edges\n",
        "\n",
        "edges = get_edges(G)\n",
        "edges"
      ],
      "execution_count": 5,
      "outputs": [
        {
          "output_type": "execute_result",
          "data": {
            "text/plain": [
              "[('n0', 'n1'),\n",
              " ('n0', 'n2'),\n",
              " ('n0', 'n3'),\n",
              " ('n1', 'n7'),\n",
              " ('n2', 'n8'),\n",
              " ('n3', 'n4'),\n",
              " ('n4', 'n5'),\n",
              " ('n4', 'n6'),\n",
              " ('n5', 'n6'),\n",
              " ('n7', 'n14'),\n",
              " ('n8', 'n9'),\n",
              " ('n8', 'n10'),\n",
              " ('n8', 'n11'),\n",
              " ('n9', 'n12'),\n",
              " ('n10', 'n11'),\n",
              " ('n12', 'n13'),\n",
              " ('n13', 'n11'),\n",
              " ('n13', 'n14')]"
            ]
          },
          "metadata": {
            "tags": []
          },
          "execution_count": 5
        }
      ]
    },
    {
      "cell_type": "markdown",
      "metadata": {
        "id": "jvoNA_30ro8n"
      },
      "source": [
        "Создадим список смежности, которым задается граф"
      ]
    },
    {
      "cell_type": "code",
      "metadata": {
        "colab": {
          "base_uri": "https://localhost:8080/"
        },
        "id": "wNVL3ytSqAnh",
        "outputId": "39163cd0-a721-4306-84fe-4bf2b78af4f9"
      },
      "source": [
        "def get_adj_list(graph):\n",
        "  adj_list = {}\n",
        "  for par in graph.adjacency():\n",
        "    adj_list[par[0]] = []\n",
        "    for ch in par[1].keys():\n",
        "      adj_list[par[0]].append(ch)\n",
        "  return adj_list\n",
        "\n",
        "adj_list = get_adj_list(G)\n",
        "adj_list"
      ],
      "execution_count": 6,
      "outputs": [
        {
          "output_type": "execute_result",
          "data": {
            "text/plain": [
              "{'n0': ['n1', 'n2', 'n3'],\n",
              " 'n1': ['n7'],\n",
              " 'n10': ['n11'],\n",
              " 'n11': [],\n",
              " 'n12': ['n13'],\n",
              " 'n13': ['n11', 'n14'],\n",
              " 'n14': [],\n",
              " 'n2': ['n8'],\n",
              " 'n3': ['n4'],\n",
              " 'n4': ['n5', 'n6'],\n",
              " 'n5': ['n6'],\n",
              " 'n6': [],\n",
              " 'n7': ['n14'],\n",
              " 'n8': ['n9', 'n10', 'n11'],\n",
              " 'n9': ['n12']}"
            ]
          },
          "metadata": {
            "tags": []
          },
          "execution_count": 6
        }
      ]
    },
    {
      "cell_type": "markdown",
      "metadata": {
        "id": "zLY0dhl-sIl3"
      },
      "source": [
        "Функция, которая ищет ноды без предшественников"
      ]
    },
    {
      "cell_type": "code",
      "metadata": {
        "colab": {
          "base_uri": "https://localhost:8080/"
        },
        "id": "OMGPuMXLsGgH",
        "outputId": "b357279e-b00f-4a96-86e7-3b7a0254b13b"
      },
      "source": [
        "def get_sources(graph):\n",
        "  sources = []\n",
        "  nodes = get_nodes(graph)\n",
        "  adj_list = get_adj_list(graph)\n",
        "  for node in nodes:\n",
        "    cnt = 0\n",
        "    for n in adj_list.keys():\n",
        "      cnt += adj_list[n].count(node)\n",
        "    if cnt == 0:\n",
        "      sources.append(node)\n",
        "  return sources\n",
        "\n",
        "sources = get_sources(G)\n",
        "sources"
      ],
      "execution_count": 7,
      "outputs": [
        {
          "output_type": "execute_result",
          "data": {
            "text/plain": [
              "['n0']"
            ]
          },
          "metadata": {
            "tags": []
          },
          "execution_count": 7
        }
      ]
    },
    {
      "cell_type": "markdown",
      "metadata": {
        "id": "fViF8I4JvdnV"
      },
      "source": [
        "Функция, которая ищет предшественников для каждой вершины"
      ]
    },
    {
      "cell_type": "code",
      "metadata": {
        "colab": {
          "base_uri": "https://localhost:8080/"
        },
        "id": "uA_qCqNzutf1",
        "outputId": "ac6f6993-0df2-4bf2-d636-545bf88e9499"
      },
      "source": [
        "def get_parents(graph):\n",
        "  parents = dict()\n",
        "  nodes = get_nodes(graph)\n",
        "  adj_list = get_adj_list(graph)\n",
        "  for node in nodes:\n",
        "    parents[node] = []\n",
        "    for n in adj_list.keys():\n",
        "      if adj_list[n].count(node) > 0:\n",
        "        parents[node].append(n)\n",
        "  return parents\n",
        "\n",
        "parents = get_parents(G)\n",
        "parents"
      ],
      "execution_count": 8,
      "outputs": [
        {
          "output_type": "execute_result",
          "data": {
            "text/plain": [
              "{'n0': [],\n",
              " 'n1': ['n0'],\n",
              " 'n10': ['n8'],\n",
              " 'n11': ['n8', 'n10', 'n13'],\n",
              " 'n12': ['n9'],\n",
              " 'n13': ['n12'],\n",
              " 'n14': ['n7', 'n13'],\n",
              " 'n2': ['n0'],\n",
              " 'n3': ['n0'],\n",
              " 'n4': ['n3'],\n",
              " 'n5': ['n4'],\n",
              " 'n6': ['n4', 'n5'],\n",
              " 'n7': ['n1'],\n",
              " 'n8': ['n2'],\n",
              " 'n9': ['n8']}"
            ]
          },
          "metadata": {
            "tags": []
          },
          "execution_count": 8
        }
      ]
    },
    {
      "cell_type": "code",
      "metadata": {
        "id": "-btRtTSsxllK"
      },
      "source": [
        "def get_labeled_parents(nodes, parents, labels_dict):\n",
        "  labeled_parents = dict()\n",
        "  for node in nodes:\n",
        "    labeled_parents[node] = []\n",
        "    for parent in parents[node]:\n",
        "      if parent in labels_dict.keys():\n",
        "        labeled_parents[node].append(labels_dict[parent])\n",
        "    labeled_parents[node] = labeled_parents[node][::-1]\n",
        "  return labeled_parents"
      ],
      "execution_count": 9,
      "outputs": []
    },
    {
      "cell_type": "code",
      "metadata": {
        "colab": {
          "base_uri": "https://localhost:8080/"
        },
        "id": "jfvz97ZorvVs",
        "outputId": "2713c630-145d-4373-e5fb-69f1a0a2949b"
      },
      "source": [
        "def vertex_labeling(graph):\n",
        "  nodes = get_nodes(graph)\n",
        "  sources = get_sources(graph)\n",
        "  parents = get_parents(graph)\n",
        "  labeled_parents = dict()\n",
        "  labels_dict = dict()\n",
        "  label = 1\n",
        "  unlabeled_nodes = nodes.copy()\n",
        "  for source in sources:\n",
        "    labels_dict[source] = label\n",
        "    label += 1\n",
        "    unlabeled_nodes.remove(source)\n",
        "  while unlabeled_nodes != []:\n",
        "    labeled_parents = get_labeled_parents(nodes, parents, labels_dict)\n",
        "    current = []\n",
        "    for node in unlabeled_nodes:\n",
        "      if len(parents[node]) == len(labeled_parents[node]):\n",
        "        current.append(node)\n",
        "    current.sort(key=lambda x: labeled_parents[x])\n",
        "    for curr in current:\n",
        "      labels_dict[curr] = label\n",
        "      label += 1\n",
        "      unlabeled_nodes.remove(curr)\n",
        "  \n",
        "  return labels_dict\n",
        "\n",
        "nodes_to_labels = vertex_labeling(G)\n",
        "nodes_to_labels"
      ],
      "execution_count": 10,
      "outputs": [
        {
          "output_type": "execute_result",
          "data": {
            "text/plain": [
              "{'n0': 1,\n",
              " 'n1': 2,\n",
              " 'n10': 9,\n",
              " 'n11': 15,\n",
              " 'n12': 11,\n",
              " 'n13': 13,\n",
              " 'n14': 14,\n",
              " 'n2': 3,\n",
              " 'n3': 4,\n",
              " 'n4': 7,\n",
              " 'n5': 10,\n",
              " 'n6': 12,\n",
              " 'n7': 5,\n",
              " 'n8': 6,\n",
              " 'n9': 8}"
            ]
          },
          "metadata": {
            "tags": []
          },
          "execution_count": 10
        }
      ]
    },
    {
      "cell_type": "code",
      "metadata": {
        "colab": {
          "base_uri": "https://localhost:8080/"
        },
        "id": "LRQuGFjeJBP0",
        "outputId": "a1d690dc-6344-4a6f-8cdf-ba1ff1dd9b9c"
      },
      "source": [
        "def reverse_dict(d):\n",
        "  new_d = dict()\n",
        "  for k, v in d.items():\n",
        "    new_d[v] = k\n",
        "  return new_d\n",
        "\n",
        "labels_to_nodes = reverse_dict(nodes_to_labels)\n",
        "labels_to_nodes"
      ],
      "execution_count": 11,
      "outputs": [
        {
          "output_type": "execute_result",
          "data": {
            "text/plain": [
              "{1: 'n0',\n",
              " 2: 'n1',\n",
              " 3: 'n2',\n",
              " 4: 'n3',\n",
              " 5: 'n7',\n",
              " 6: 'n8',\n",
              " 7: 'n4',\n",
              " 8: 'n9',\n",
              " 9: 'n10',\n",
              " 10: 'n5',\n",
              " 11: 'n12',\n",
              " 12: 'n6',\n",
              " 13: 'n13',\n",
              " 14: 'n14',\n",
              " 15: 'n11'}"
            ]
          },
          "metadata": {
            "tags": []
          },
          "execution_count": 11
        }
      ]
    },
    {
      "cell_type": "code",
      "metadata": {
        "colab": {
          "base_uri": "https://localhost:8080/"
        },
        "id": "vjPjcpIqrvKq",
        "outputId": "03962c6d-d882-4fa4-c3da-78a4263d718b"
      },
      "source": [
        "def layer_distribution(graph, W=3):\n",
        "  nodes = get_nodes(graph)\n",
        "  # parents = get_parents(graph)\n",
        "  adj_list = get_adj_list(graph)\n",
        "  nodes_to_labels = vertex_labeling(graph)\n",
        "  labels_to_nodes = reverse_dict(nodes_to_labels)\n",
        "  labels = list(range(1, len(nodes) + 1)[::-1])\n",
        "  layers = dict()\n",
        "  k = 1\n",
        "  distributed_nodes = []\n",
        "  layers[k] = []\n",
        "  while len(distributed_nodes) != len(nodes):\n",
        "    v = 0\n",
        "    children = []\n",
        "    for label in labels:\n",
        "      children = [nodes_to_labels[x] for x in adj_list[labels_to_nodes[label]]]\n",
        "      flag = True\n",
        "      for child in children:\n",
        "        if child in distributed_nodes:\n",
        "          flag = False\n",
        "      if flag == True:\n",
        "        v = label\n",
        "        break\n",
        "    children_not_in_k_layer = True\n",
        "    for child in children:\n",
        "      if layers[k].count(child) > 0:\n",
        "        children_not_in_k_layer = False\n",
        "    if len(layers[k]) < W and children_not_in_k_layer:\n",
        "      layers[k].append(v)\n",
        "    else:\n",
        "      k += 1\n",
        "      layers[k] = [v]\n",
        "    distributed_nodes.append(labels_to_nodes[v])\n",
        "    labels.remove(v)\n",
        "  \n",
        "  return layers\n",
        "\n",
        "layers = layer_distribution(G, W=3)\n",
        "layers"
      ],
      "execution_count": 12,
      "outputs": [
        {
          "output_type": "execute_result",
          "data": {
            "text/plain": [
              "{1: [15, 14],\n",
              " 2: [13, 12],\n",
              " 3: [11, 10, 9],\n",
              " 4: [8, 7],\n",
              " 5: [6, 5, 4],\n",
              " 6: [3, 2],\n",
              " 7: [1]}"
            ]
          },
          "metadata": {
            "tags": []
          },
          "execution_count": 12
        }
      ]
    },
    {
      "cell_type": "code",
      "metadata": {
        "colab": {
          "base_uri": "https://localhost:8080/"
        },
        "id": "PR0AJ9QrrvCo",
        "outputId": "ddaae284-0d62-4680-8b10-d958116958f0"
      },
      "source": [
        "def get_layers_for_nodes(graph, W):\n",
        "  layers = layer_distribution(graph, W)\n",
        "  nodes_to_labels = vertex_labeling(graph)\n",
        "  labels_to_nodes = reverse_dict(nodes_to_labels)\n",
        "  layers_for_nodes = dict()\n",
        "  for k, v in layers.items():\n",
        "    layers_for_nodes[k] = []\n",
        "    for vertex in v:\n",
        "      layers_for_nodes[k].append(labels_to_nodes[vertex])\n",
        "  return layers_for_nodes\n",
        "\n",
        "layers_for_nodes = get_layers_for_nodes(G, 3)\n",
        "layers_for_nodes"
      ],
      "execution_count": 13,
      "outputs": [
        {
          "output_type": "execute_result",
          "data": {
            "text/plain": [
              "{1: ['n11', 'n14'],\n",
              " 2: ['n13', 'n6'],\n",
              " 3: ['n12', 'n5', 'n10'],\n",
              " 4: ['n9', 'n4'],\n",
              " 5: ['n8', 'n7', 'n3'],\n",
              " 6: ['n2', 'n1'],\n",
              " 7: ['n0']}"
            ]
          },
          "metadata": {
            "tags": []
          },
          "execution_count": 13
        }
      ]
    },
    {
      "cell_type": "code",
      "metadata": {
        "colab": {
          "base_uri": "https://localhost:8080/"
        },
        "id": "Irjew5jStAyZ",
        "outputId": "aed91e67-5687-4587-bd50-183c5f774fa8"
      },
      "source": [
        "list(layers_for_nodes.keys())[::-1]"
      ],
      "execution_count": 14,
      "outputs": [
        {
          "output_type": "execute_result",
          "data": {
            "text/plain": [
              "[7, 6, 5, 4, 3, 2, 1]"
            ]
          },
          "metadata": {
            "tags": []
          },
          "execution_count": 14
        }
      ]
    },
    {
      "cell_type": "markdown",
      "metadata": {
        "id": "HxbUWneUrQPo"
      },
      "source": [
        "Добавление dummy вершин"
      ]
    },
    {
      "cell_type": "code",
      "metadata": {
        "id": "qkogMT5SuxOQ"
      },
      "source": [
        "def get_layer_of_nodes(layers_for_nodes, node1, node2):\n",
        "  node1_layer = 0\n",
        "  node2_layer = 0\n",
        "  for k in layers_for_nodes.keys():\n",
        "    if layers_for_nodes[k].count(node1) > 0:\n",
        "      node1_layer = k\n",
        "    if layers_for_nodes[k].count(node2) > 0:\n",
        "      node2_layer = k\n",
        "  return node1_layer, node2_layer"
      ],
      "execution_count": 15,
      "outputs": []
    },
    {
      "cell_type": "code",
      "metadata": {
        "colab": {
          "base_uri": "https://localhost:8080/"
        },
        "id": "XMeE4mxDrFUx",
        "outputId": "96ad0f84-dd32-48c7-94ea-0ae9f7dc077c"
      },
      "source": [
        "def adding_dummy_vertices(gr, W):\n",
        "  graph = gr.copy()\n",
        "  layers_for_nodes = get_layers_for_nodes(graph, W)\n",
        "  cnt_dum = 1\n",
        "  for layer in list(layers_for_nodes.keys())[::-1]:\n",
        "    for node in layers_for_nodes[layer]:\n",
        "      children = get_adj_list(graph)\n",
        "      for dest in children[node]:\n",
        "        node_layer, dest_layer = get_layer_of_nodes(layers_for_nodes, node, dest)\n",
        "        if node_layer - dest_layer > 1:\n",
        "          graph.add_node(f'd{cnt_dum}')\n",
        "          graph.remove_edge(node, dest)\n",
        "          graph.add_edge(node, f'd{cnt_dum}')\n",
        "          graph.add_edge(f'd{cnt_dum}', dest)\n",
        "          layers_for_nodes[node_layer - 1].append(f'd{cnt_dum}')\n",
        "          cnt_dum += 1\n",
        "  return graph, layers_for_nodes\n",
        "\n",
        "G_new, layers_with_dummies = adding_dummy_vertices(G, W=3)\n",
        "layers_with_dummies"
      ],
      "execution_count": 16,
      "outputs": [
        {
          "output_type": "execute_result",
          "data": {
            "text/plain": [
              "{1: ['n11', 'n14'],\n",
              " 2: ['n13', 'n6', 'd8', 'd9', 'd10'],\n",
              " 3: ['n12', 'n5', 'n10', 'd5', 'd6', 'd7'],\n",
              " 4: ['n9', 'n4', 'd2', 'd3', 'd4'],\n",
              " 5: ['n8', 'n7', 'n3'],\n",
              " 6: ['n2', 'n1', 'd1'],\n",
              " 7: ['n0']}"
            ]
          },
          "metadata": {
            "tags": []
          },
          "execution_count": 16
        }
      ]
    },
    {
      "cell_type": "markdown",
      "metadata": {
        "id": "dOVUpxm5cAbB"
      },
      "source": [
        "Найдем координаты вершин"
      ]
    },
    {
      "cell_type": "code",
      "metadata": {
        "id": "ZyUdzKRnqmxx"
      },
      "source": [
        "def get_coordinates(graph, layers_with_dummies):\n",
        "  x = dict()\n",
        "  y = dict()\n",
        "  nodes = get_nodes(graph)\n",
        "  for layer in layers_with_dummies:\n",
        "    x_coord = 0\n",
        "    for vertex in layers_with_dummies[layer]:\n",
        "      x[vertex] = x_coord\n",
        "      x_coord += 1\n",
        "      y[vertex] = layer\n",
        "  coordinates = dict()\n",
        "  for node in nodes:\n",
        "    coordinates[node] = (x[node], y[node])\n",
        "  return coordinates"
      ],
      "execution_count": 17,
      "outputs": []
    },
    {
      "cell_type": "code",
      "metadata": {
        "colab": {
          "base_uri": "https://localhost:8080/"
        },
        "id": "F7xl4LWcru7F",
        "outputId": "70e3ec19-ee41-4406-9776-861d78188175"
      },
      "source": [
        "coordinates = get_coordinates(G_new, layers_with_dummies)\n",
        "coordinates"
      ],
      "execution_count": 18,
      "outputs": [
        {
          "output_type": "execute_result",
          "data": {
            "text/plain": [
              "{'d1': (2, 6),\n",
              " 'd10': (4, 2),\n",
              " 'd2': (2, 4),\n",
              " 'd3': (3, 4),\n",
              " 'd4': (4, 4),\n",
              " 'd5': (3, 3),\n",
              " 'd6': (4, 3),\n",
              " 'd7': (5, 3),\n",
              " 'd8': (2, 2),\n",
              " 'd9': (3, 2),\n",
              " 'n0': (0, 7),\n",
              " 'n1': (1, 6),\n",
              " 'n10': (2, 3),\n",
              " 'n11': (0, 1),\n",
              " 'n12': (0, 3),\n",
              " 'n13': (0, 2),\n",
              " 'n14': (1, 1),\n",
              " 'n2': (0, 6),\n",
              " 'n3': (2, 5),\n",
              " 'n4': (1, 4),\n",
              " 'n5': (1, 3),\n",
              " 'n6': (1, 2),\n",
              " 'n7': (1, 5),\n",
              " 'n8': (0, 5),\n",
              " 'n9': (0, 4)}"
            ]
          },
          "metadata": {
            "tags": []
          },
          "execution_count": 18
        }
      ]
    },
    {
      "cell_type": "code",
      "metadata": {
        "colab": {
          "base_uri": "https://localhost:8080/"
        },
        "id": "IL27UHP3DEVm",
        "outputId": "b43d440a-36dd-4887-9efa-72ad6291d5fd"
      },
      "source": [
        "def get_new_coord(gr, W):\n",
        "  graph, layers = adding_dummy_vertices(gr, W)\n",
        "  coordinates = get_coordinates(graph, layers)\n",
        "  parents = get_parents(graph)\n",
        "  children = get_adj_list(graph)\n",
        "  for i in range(10):\n",
        "    for node in coordinates.keys():\n",
        "      if node.count('d') > 0:\n",
        "        parents_coord = np.mean([coordinates[x][0] for x in parents[node]])\n",
        "        children_coord = np.mean([coordinates[x][0] for x in children[node]])\n",
        "        coordinates[node] = ((parents_coord + children_coord + 0.3) / 2, coordinates[node][1])\n",
        "  return coordinates\n",
        "\n",
        "new_coord = get_new_coord(G, W=3)\n",
        "new_coord"
      ],
      "execution_count": 19,
      "outputs": [
        {
          "output_type": "execute_result",
          "data": {
            "text/plain": [
              "{'d1': (1.15, 6),\n",
              " 'd10': (1.4520751953124997, 2),\n",
              " 'd2': (1.15, 4),\n",
              " 'd3': (0.45415039062499996, 4),\n",
              " 'd4': (1.4541503906249997, 4),\n",
              " 'd5': (1.15, 3),\n",
              " 'd6': (0.604150390625, 3),\n",
              " 'd7': (1.6041503906249996, 3),\n",
              " 'd8': (1.15, 2),\n",
              " 'd9': (0.45207519531249996, 2),\n",
              " 'n0': (0, 7),\n",
              " 'n1': (1, 6),\n",
              " 'n10': (2, 3),\n",
              " 'n11': (0, 1),\n",
              " 'n12': (0, 3),\n",
              " 'n13': (0, 2),\n",
              " 'n14': (1, 1),\n",
              " 'n2': (0, 6),\n",
              " 'n3': (2, 5),\n",
              " 'n4': (1, 4),\n",
              " 'n5': (1, 3),\n",
              " 'n6': (1, 2),\n",
              " 'n7': (1, 5),\n",
              " 'n8': (0, 5),\n",
              " 'n9': (0, 4)}"
            ]
          },
          "metadata": {
            "tags": []
          },
          "execution_count": 19
        }
      ]
    },
    {
      "cell_type": "code",
      "metadata": {
        "colab": {
          "base_uri": "https://localhost:8080/"
        },
        "id": "Vs3FTYQNHVi1",
        "outputId": "f18b63ac-dadc-49c2-ce65-9cc3c47eccd0"
      },
      "source": [
        "def get_new_layer_distribution(gr, W):\n",
        "  new_layers = dict()\n",
        "  graph, layers = adding_dummy_vertices(gr, W)\n",
        "  adj_list = get_adj_list(graph)\n",
        "  parents = get_parents(graph)\n",
        "  isolated = []\n",
        "  for layer in layers.keys():\n",
        "    for ch in layers[layer]:\n",
        "        if parents[ch] == [] and adj_list[ch] == []:\n",
        "          isolated.append((layer, ch))\n",
        "  for layer in list(layers.keys())[::-1]:\n",
        "    new_layers[layer - 1] = []\n",
        "    if layer == list(layers.keys())[-1]:\n",
        "      new_layers[layer] = []\n",
        "      new_layers[layer] += layers[layer]\n",
        "    nodes = layers[layer]\n",
        "    for node in nodes:\n",
        "      children = []\n",
        "      try:\n",
        "        for child in layers[layer - 1]:\n",
        "          if child in adj_list[node]:\n",
        "            children.append(child)\n",
        "        parent = parents[node]\n",
        "        if children == [] and parent == []:\n",
        "          new_layers[layer].append(node)\n",
        "        for child in children:\n",
        "          if child not in new_layers[layer - 1]:\n",
        "            new_layers[layer - 1].append(child)\n",
        "\n",
        "      except:\n",
        "        pass\n",
        "    layers[layer - 1] = new_layers[layer - 1]\n",
        "  for isol in isolated:\n",
        "    new_layers[isol[0]].append(isol[1])\n",
        "  return new_layers\n",
        "\n",
        "get_new_layer_distribution(G, W=3)[1]\n"
      ],
      "execution_count": 20,
      "outputs": [
        {
          "output_type": "execute_result",
          "data": {
            "text/plain": [
              "['n11', 'n14']"
            ]
          },
          "metadata": {
            "tags": []
          },
          "execution_count": 20
        }
      ]
    },
    {
      "cell_type": "code",
      "metadata": {
        "colab": {
          "base_uri": "https://localhost:8080/"
        },
        "id": "Qy42Lu0D0NeS",
        "outputId": "bac728ed-ee85-4bf8-ed31-84f2afeaedb3"
      },
      "source": [
        "def correcting_coordinates(gr, W):\n",
        "  graph, layers = adding_dummy_vertices(gr, W)\n",
        "  new_layers = get_new_layer_distribution(gr, W)\n",
        "  # print(layers)\n",
        "  # print(new_layers)\n",
        "  old_coords = get_new_coord(gr, W)\n",
        "  new_coords = dict()\n",
        "  coord_per_layer = dict()\n",
        "  for layer in layers.keys():\n",
        "    nodes = layers[layer]\n",
        "    coord_per_layer[layer] = []\n",
        "    for node in nodes:\n",
        "      coord_per_layer[layer].append(old_coords[node])\n",
        "  # print(coord_per_layer)\n",
        "  for k, v in coord_per_layer.items():\n",
        "    coord_per_layer[k] = sorted(v, key=lambda x: x[0])\n",
        "    \n",
        "  # print('new_layers = ', new_layers)\n",
        "  for layer in new_layers.keys():\n",
        "    nodes = new_layers[layer]\n",
        "    # print(nodes)\n",
        "    for node in nodes:\n",
        "      # print(coord_per_layer[layer])\n",
        "      if coord_per_layer[layer] != []:\n",
        "        new_coords[node] = coord_per_layer[layer].pop(0)\n",
        "\n",
        "  return new_coords\n",
        "\n",
        "\n",
        "best_coord = correcting_coordinates(G, W=3)\n",
        "best_coord"
      ],
      "execution_count": 21,
      "outputs": [
        {
          "output_type": "execute_result",
          "data": {
            "text/plain": [
              "{'d1': (1.15, 6),\n",
              " 'd10': (1.15, 2),\n",
              " 'd2': (0.45415039062499996, 4),\n",
              " 'd3': (1, 4),\n",
              " 'd4': (1.15, 4),\n",
              " 'd5': (2, 3),\n",
              " 'd6': (1, 3),\n",
              " 'd7': (1.15, 3),\n",
              " 'd8': (0.45207519531249996, 2),\n",
              " 'd9': (1, 2),\n",
              " 'n0': (0, 7),\n",
              " 'n1': (1, 6),\n",
              " 'n10': (0.604150390625, 3),\n",
              " 'n11': (0, 1),\n",
              " 'n12': (0, 3),\n",
              " 'n13': (0, 2),\n",
              " 'n14': (1, 1),\n",
              " 'n2': (0, 6),\n",
              " 'n3': (2, 5),\n",
              " 'n4': (1.4541503906249997, 4),\n",
              " 'n5': (1.6041503906249996, 3),\n",
              " 'n6': (1.4520751953124997, 2),\n",
              " 'n7': (1, 5),\n",
              " 'n8': (0, 5),\n",
              " 'n9': (0, 4)}"
            ]
          },
          "metadata": {
            "tags": []
          },
          "execution_count": 21
        }
      ]
    },
    {
      "cell_type": "code",
      "metadata": {
        "colab": {
          "base_uri": "https://localhost:8080/"
        },
        "id": "iN-IBBIUwu2q",
        "outputId": "cb1db8db-b088-43c4-a899-cc1eb30ce623"
      },
      "source": [
        "def get_sizes_of_nodes(graph_nodes):\n",
        "  sizes = dict()\n",
        "  for node in graph_nodes:\n",
        "    if node.count('n') > 0:\n",
        "      sizes[node] = 300\n",
        "    else:\n",
        "      sizes[node] = 0\n",
        "  return sizes\n",
        "\n",
        "sizes = get_sizes_of_nodes(G_new.nodes)\n",
        "sizes"
      ],
      "execution_count": 22,
      "outputs": [
        {
          "output_type": "execute_result",
          "data": {
            "text/plain": [
              "{'d1': 0,\n",
              " 'd10': 0,\n",
              " 'd2': 0,\n",
              " 'd3': 0,\n",
              " 'd4': 0,\n",
              " 'd5': 0,\n",
              " 'd6': 0,\n",
              " 'd7': 0,\n",
              " 'd8': 0,\n",
              " 'd9': 0,\n",
              " 'n0': 300,\n",
              " 'n1': 300,\n",
              " 'n10': 300,\n",
              " 'n11': 300,\n",
              " 'n12': 300,\n",
              " 'n13': 300,\n",
              " 'n14': 300,\n",
              " 'n2': 300,\n",
              " 'n3': 300,\n",
              " 'n4': 300,\n",
              " 'n5': 300,\n",
              " 'n6': 300,\n",
              " 'n7': 300,\n",
              " 'n8': 300,\n",
              " 'n9': 300}"
            ]
          },
          "metadata": {
            "tags": []
          },
          "execution_count": 22
        }
      ]
    },
    {
      "cell_type": "markdown",
      "metadata": {
        "id": "UY7WaeDrOnNn"
      },
      "source": [
        "# Результат отрисовки графа с помощью алгоритма Грехема-Коффмана"
      ]
    },
    {
      "cell_type": "code",
      "metadata": {
        "colab": {
          "base_uri": "https://localhost:8080/",
          "height": 895
        },
        "id": "IQC4nyGc9G2r",
        "outputId": "3e040bb7-b16f-41bf-eead-7661ab35f76c"
      },
      "source": [
        "import matplotlib.pyplot as plt\n",
        "plt.figure(figsize=(10, 12))\n",
        "nx.draw(G_new, pos=best_coord, with_labels=False, nodelist=list(sizes.keys()), node_size=list(sizes.values()), \\\n",
        "        font_size=20, node_color='y', width=2, edge_color='g')\n",
        "plt.savefig('graph_graham_coffman_with_dummies.png')\n",
        "plt.show()"
      ],
      "execution_count": 23,
      "outputs": [
        {
          "output_type": "display_data",
          "data": {
            "image/png": "[encoded data removed]",
            "text/plain": [
              "<Figure size 720x864 with 1 Axes>"
            ]
          },
          "metadata": {
            "tags": []
          }
        }
      ]
    },
    {
      "cell_type": "markdown",
      "metadata": {
        "id": "k4V7fQB5-uwt"
      },
      "source": [
        "Напишем теперь алгоритм для визуализации графа с минимальным количеством dummy-вершин"
      ]
    },
    {
      "cell_type": "code",
      "metadata": {
        "id": "lAYsYaBFS2ec"
      },
      "source": [
        "def get_target(graph):\n",
        "  targets = []\n",
        "  children = get_adj_list(graph)\n",
        "  parents = get_parents(graph)\n",
        "  for node in nodes:\n",
        "    targets.append(len(children[node]) - len(parents[node]))\n",
        "  return targets"
      ],
      "execution_count": 24,
      "outputs": []
    },
    {
      "cell_type": "code",
      "metadata": {
        "id": "big0RSWnUIlM"
      },
      "source": [
        "def get_restrictions(graph):\n",
        "  nodes = get_nodes(graph)\n",
        "  edges = get_edges(graph)\n",
        "  matr = np.zeros((len(edges), len(nodes)))\n",
        "  for i, e in enumerate(edges):\n",
        "    matr[i, nodes.index(e[0])] = -1\n",
        "    matr[i, nodes.index(e[1])] = 1\n",
        "  restr = (-1) * np.ones((len(edges),))\n",
        "  return matr, restr"
      ],
      "execution_count": 25,
      "outputs": []
    },
    {
      "cell_type": "code",
      "metadata": {
        "id": "p5ZpwcNguFUI"
      },
      "source": [
        "def optimization(graph):\n",
        "  nodes = get_nodes(graph)\n",
        "  to_be_minimized = get_target(graph)\n",
        "  restrictions = get_restrictions(graph)\n",
        "  optim_result = linprog(to_be_minimized, A_ub=restrictions[0], b_ub=restrictions[1], bounds=(list([(1, None)] * len(nodes))))\n",
        "  return optim_result"
      ],
      "execution_count": 26,
      "outputs": []
    },
    {
      "cell_type": "code",
      "metadata": {
        "id": "i7B0kZfyO9mP"
      },
      "source": [
        "def min_dummy_vertices_algo(graph):\n",
        "  nodes = get_nodes(graph)\n",
        "  optim_result = optimization(graph).x\n",
        "  tmp_coord = [round(x) for x in optim_result]\n",
        "  y_coords = [(x - min(tmp_coord)) for x in tmp_coord]\n",
        "  layers = dict()\n",
        "  for i in range(max(y_coords) + 1):\n",
        "    layers[i] = []\n",
        "  for i, y in enumerate(y_coords):\n",
        "    layers[y].append(nodes[i])\n",
        "  return layers\n"
      ],
      "execution_count": 27,
      "outputs": []
    },
    {
      "cell_type": "code",
      "metadata": {
        "colab": {
          "base_uri": "https://localhost:8080/"
        },
        "id": "rw0iOQQxa_0c",
        "outputId": "6b402d82-6c2f-499b-c04f-ccde8a26e975"
      },
      "source": [
        "layers = min_dummy_vertices_algo(G)\n",
        "layers"
      ],
      "execution_count": 28,
      "outputs": [
        {
          "output_type": "stream",
          "text": [
            "/usr/local/lib/python3.7/dist-packages/numpy/core/fromnumeric.py:87: VisibleDeprecationWarning: Creating an ndarray from ragged nested sequences (which is a list-or-tuple of lists-or-tuples-or ndarrays with different lengths or shapes) is deprecated. If you meant to do this, you must specify 'dtype=object' when creating the ndarray\n",
            "  return ufunc.reduce(obj, axis, dtype, out, **passkwargs)\n"
          ],
          "name": "stderr"
        },
        {
          "output_type": "execute_result",
          "data": {
            "text/plain": [
              "{0: ['n11', 'n14'],\n",
              " 1: ['n13'],\n",
              " 2: ['n6', 'n7', 'n10', 'n12'],\n",
              " 3: ['n5', 'n9'],\n",
              " 4: ['n1', 'n4', 'n8'],\n",
              " 5: ['n2', 'n3'],\n",
              " 6: ['n0']}"
            ]
          },
          "metadata": {
            "tags": []
          },
          "execution_count": 28
        }
      ]
    },
    {
      "cell_type": "code",
      "metadata": {
        "id": "i1NPB0mubLeQ"
      },
      "source": [
        "def adding_dummy(gr, layers):\n",
        "  graph = gr.copy()\n",
        "  cnt_dum = 1\n",
        "  for layer in list(layers.keys())[::-1]:\n",
        "    for node in layers[layer]:\n",
        "      children = get_adj_list(graph)\n",
        "      for dest in children[node]:\n",
        "        node_layer, dest_layer = get_layer_of_nodes(layers, node, dest)\n",
        "        if node_layer - dest_layer > 1:\n",
        "          graph.add_node(f'd{cnt_dum}')\n",
        "          graph.remove_edge(node, dest)\n",
        "          graph.add_edge(node, f'd{cnt_dum}')\n",
        "          graph.add_edge(f'd{cnt_dum}', dest)\n",
        "          layers[node_layer - 1].append(f'd{cnt_dum}')\n",
        "          cnt_dum += 1\n",
        "  \n",
        "  for k, v in layers.items():\n",
        "    layers[k] = list(set(v))\n",
        "  return graph, layers"
      ],
      "execution_count": 29,
      "outputs": []
    },
    {
      "cell_type": "code",
      "metadata": {
        "id": "ZyAAkLJLb-gl"
      },
      "source": [
        "G_new, new_layers = adding_dummy(G, layers)"
      ],
      "execution_count": 30,
      "outputs": []
    },
    {
      "cell_type": "code",
      "metadata": {
        "id": "aFDCasECdggi"
      },
      "source": [
        "def get_coords(graph, layers_with_dummies):\n",
        "  x = dict()\n",
        "  y = dict()\n",
        "  nodes = get_nodes(graph)\n",
        "  for layer in layers_with_dummies:\n",
        "    x_coord = 0\n",
        "    for vertex in layers_with_dummies[layer]:\n",
        "      x[vertex] = x_coord\n",
        "      x_coord += 1\n",
        "      y[vertex] = layer\n",
        "  coordinates = dict()\n",
        "  for node in nodes:\n",
        "    coordinates[node] = (x[node], y[node])\n",
        "  return coordinates"
      ],
      "execution_count": 31,
      "outputs": []
    },
    {
      "cell_type": "code",
      "metadata": {
        "id": "fENnFFEccHAQ"
      },
      "source": [
        "def get_new_coordinates(graph, layers):\n",
        "  coordinates = get_coords(graph, layers)\n",
        "  parents = get_parents(graph)\n",
        "  children = get_adj_list(graph)\n",
        "  for i in range(10):\n",
        "    for node in coordinates.keys():\n",
        "      if node.count('d') > 0:\n",
        "        parents_coord = np.mean([coordinates[x][0] for x in parents[node]])\n",
        "        children_coord = np.mean([coordinates[x][0] for x in children[node]])\n",
        "        coordinates[node] = ((parents_coord + children_coord + 0.3) / 2, coordinates[node][1])\n",
        "  return coordinates\n",
        "\n",
        "new_coord = get_new_coordinates(G_new, new_layers)\n",
        "# new_coord"
      ],
      "execution_count": 32,
      "outputs": []
    },
    {
      "cell_type": "code",
      "metadata": {
        "id": "BVpRmmyUxWH3",
        "colab": {
          "base_uri": "https://localhost:8080/"
        },
        "outputId": "d147855a-e74b-4e06-8df3-44b364ccfcc9"
      },
      "source": [
        "def get_new_layer_distribution(gr):\n",
        "  layers = min_dummy_vertices_algo(gr)\n",
        "  new_layers = dict()\n",
        "  graph, layers = adding_dummy(gr, layers)\n",
        "  adj_list = get_adj_list(graph)\n",
        "  parents = get_parents(graph)\n",
        "  isolated = []\n",
        "  for layer in layers.keys():\n",
        "    for ch in layers[layer]:\n",
        "        if parents[ch] == [] and adj_list[ch] == []:\n",
        "          isolated.append((layer, ch))\n",
        "  for layer in list(layers.keys())[::-1]:\n",
        "    new_layers[layer - 1] = []\n",
        "    if layer == list(layers.keys())[-1]:\n",
        "      new_layers[layer] = []\n",
        "      new_layers[layer] += layers[layer]\n",
        "    nodes = layers[layer]\n",
        "    for node in nodes:\n",
        "      children = []\n",
        "      try:\n",
        "        for child in layers[layer - 1]:\n",
        "          if child in adj_list[node]:\n",
        "            children.append(child)\n",
        "        parent = parents[node]\n",
        "        if children == [] and parent == []:\n",
        "          new_layers[layer].append(node)\n",
        "        for child in children:\n",
        "          if child not in new_layers[layer - 1]:\n",
        "            new_layers[layer - 1].append(child)\n",
        "\n",
        "      except:\n",
        "        pass\n",
        "    layers[layer - 1] = new_layers[layer - 1]\n",
        "  for isol in isolated:\n",
        "    new_layers[isol[0]].append(isol[1])\n",
        "  return new_layers\n",
        "\n",
        "new_layers = get_new_layer_distribution(G)\n",
        "new_layers"
      ],
      "execution_count": 33,
      "outputs": [
        {
          "output_type": "stream",
          "text": [
            "/usr/local/lib/python3.7/dist-packages/numpy/core/fromnumeric.py:87: VisibleDeprecationWarning: Creating an ndarray from ragged nested sequences (which is a list-or-tuple of lists-or-tuples-or ndarrays with different lengths or shapes) is deprecated. If you meant to do this, you must specify 'dtype=object' when creating the ndarray\n",
            "  return ufunc.reduce(obj, axis, dtype, out, **passkwargs)\n"
          ],
          "name": "stderr"
        },
        {
          "output_type": "execute_result",
          "data": {
            "text/plain": [
              "{-1: [],\n",
              " 0: ['n14', 'n11'],\n",
              " 1: ['d7', 'n13', 'd9', 'd8'],\n",
              " 2: ['n6', 'n7', 'n12', 'd6', 'n10'],\n",
              " 3: ['n5', 'd3', 'd2', 'n9', 'd5', 'd4'],\n",
              " 4: ['n4', 'n1', 'n8'],\n",
              " 5: ['n3', 'd1', 'n2'],\n",
              " 6: ['n0']}"
            ]
          },
          "metadata": {
            "tags": []
          },
          "execution_count": 33
        }
      ]
    },
    {
      "cell_type": "code",
      "metadata": {
        "colab": {
          "base_uri": "https://localhost:8080/"
        },
        "id": "AxmFGundPdS5",
        "outputId": "266fc986-1d6e-4e2b-a5b6-8f7c8b32591f"
      },
      "source": [
        "def correcting_coordinates(gr):\n",
        "  layers = min_dummy_vertices_algo(gr)\n",
        "  graph, layers = adding_dummy(gr, layers)\n",
        "  new_layers = get_new_layer_distribution(gr)\n",
        "  # print(layers)\n",
        "  # print(new_layers)\n",
        "  old_coords = get_new_coordinates(G_new, new_layers)\n",
        "  new_coords = dict()\n",
        "  coord_per_layer = dict()\n",
        "  for layer in layers.keys():\n",
        "    nodes = layers[layer]\n",
        "    coord_per_layer[layer] = []\n",
        "    for node in nodes:\n",
        "      coord_per_layer[layer].append(old_coords[node])\n",
        "  # print(coord_per_layer)\n",
        "  for k, v in coord_per_layer.items():\n",
        "    coord_per_layer[k] = sorted(v, key=lambda x: x[0])\n",
        "    \n",
        "  # print('new_layers = ', new_layers)\n",
        "  for layer in new_layers.keys():\n",
        "    nodes = new_layers[layer]\n",
        "    # print(nodes)\n",
        "    for node in nodes:\n",
        "      # print(coord_per_layer[layer])\n",
        "      if coord_per_layer[layer] != []:\n",
        "        new_coords[node] = coord_per_layer[layer].pop(0)\n",
        "\n",
        "  return new_coords\n",
        "\n",
        "\n",
        "best_coord = correcting_coordinates(G)\n",
        "best_coord"
      ],
      "execution_count": 34,
      "outputs": [
        {
          "output_type": "stream",
          "text": [
            "/usr/local/lib/python3.7/dist-packages/numpy/core/fromnumeric.py:87: VisibleDeprecationWarning: Creating an ndarray from ragged nested sequences (which is a list-or-tuple of lists-or-tuples-or ndarrays with different lengths or shapes) is deprecated. If you meant to do this, you must specify 'dtype=object' when creating the ndarray\n",
            "  return ufunc.reduce(obj, axis, dtype, out, **passkwargs)\n"
          ],
          "name": "stderr"
        },
        {
          "output_type": "execute_result",
          "data": {
            "text/plain": [
              "{'d1': (0.65, 5),\n",
              " 'd2': (1.15, 3),\n",
              " 'd3': (0.15, 3),\n",
              " 'd4': (3.15, 3),\n",
              " 'd5': (3, 3),\n",
              " 'd6': (2.1007324218749996, 2),\n",
              " 'd7': (0.65, 1),\n",
              " 'd8': (2.65, 1),\n",
              " 'd9': (1.7003662109374997, 1),\n",
              " 'n0': (0, 6),\n",
              " 'n1': (1, 4),\n",
              " 'n10': (4, 2),\n",
              " 'n11': (1, 0),\n",
              " 'n12': (2, 2),\n",
              " 'n13': (1, 1),\n",
              " 'n14': (0, 0),\n",
              " 'n2': (2, 5),\n",
              " 'n3': (0, 5),\n",
              " 'n4': (0, 4),\n",
              " 'n5': (0, 3),\n",
              " 'n6': (0, 2),\n",
              " 'n7': (1, 2),\n",
              " 'n8': (2, 4),\n",
              " 'n9': (2.2007324218749997, 3)}"
            ]
          },
          "metadata": {
            "tags": []
          },
          "execution_count": 34
        }
      ]
    },
    {
      "cell_type": "code",
      "metadata": {
        "id": "x2oUXMQMeuT-"
      },
      "source": [
        "sizes_dum = get_sizes_of_nodes(G_new.nodes)\n",
        "# sizes_dum"
      ],
      "execution_count": 35,
      "outputs": []
    },
    {
      "cell_type": "markdown",
      "metadata": {
        "id": "k0oojzcWRMAj"
      },
      "source": [
        "# Результат отрисовки графа с помощью алгоритма минимизации числа dummy вершин"
      ]
    },
    {
      "cell_type": "code",
      "metadata": {
        "colab": {
          "base_uri": "https://localhost:8080/",
          "height": 895
        },
        "id": "eg9OCtI0dSt2",
        "outputId": "0c388782-fa35-4cd6-c833-27ae0cecdc42"
      },
      "source": [
        "plt.figure(figsize=(10, 12))\n",
        "nx.draw(G_new, pos=best_coord, with_labels=False, nodelist=list(sizes_dum.keys()), node_size=list(sizes_dum.values()), \\\n",
        "        font_size=20, node_color='y', width=2, edge_color='g')\n",
        "plt.savefig('minimize_dummies.png')\n",
        "plt.show()"
      ],
      "execution_count": 36,
      "outputs": [
        {
          "output_type": "display_data",
          "data": {
            "image/png": "[encoded data removed]",
            "text/plain": [
              "<Figure size 720x864 with 1 Axes>"
            ]
          },
          "metadata": {
            "tags": []
          }
        }
      ]
    },
    {
      "cell_type": "code",
      "metadata": {
        "id": "cQi56IYjeZ4d"
      },
      "source": [
        ""
      ],
      "execution_count": 36,
      "outputs": []
    }
  ]
}