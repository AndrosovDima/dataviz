{
  "nbformat": 4,
  "nbformat_minor": 0,
  "metadata": {
    "colab": {
      "name": "dataviz-1.ipynb",
      "provenance": [],
      "collapsed_sections": [],
      "toc_visible": true
    },
    "kernelspec": {
      "name": "python3",
      "display_name": "Python 3"
    },
    "language_info": {
      "name": "python"
    }
  },
  "cells": [
    {
      "cell_type": "markdown",
      "metadata": {
        "id": "q24rW4No61xT"
      },
      "source": [
        "Ссылка на github репозиторий: \\\n",
        "https://github.com/AndrosovDima/dataviz"
      ]
    },
    {
      "cell_type": "markdown",
      "metadata": {
        "id": "A8fi7nZX7HqS"
      },
      "source": [
        "Сколнируем репозиторий, чтобы иметь возможность читать файл с деревом оттуда"
      ]
    },
    {
      "cell_type": "code",
      "metadata": {
        "colab": {
          "base_uri": "https://localhost:8080/"
        },
        "id": "EXkVCAY_6fnN",
        "outputId": "c536e1af-550b-41d6-dc19-c8e0253a0f7c"
      },
      "source": [
        "! git clone https://github.com/AndrosovDima/dataviz"
      ],
      "execution_count": 1,
      "outputs": [
        {
          "output_type": "stream",
          "text": [
            "fatal: destination path 'dataviz' already exists and is not an empty directory.\n"
          ],
          "name": "stdout"
        }
      ]
    },
    {
      "cell_type": "markdown",
      "metadata": {
        "id": "JYgUQYccGCoR"
      },
      "source": [
        "Рассматриваем бинарное дерево!"
      ]
    },
    {
      "cell_type": "code",
      "metadata": {
        "id": "zjKCrg9zds5i"
      },
      "source": [
        "import networkx as nx\n",
        "G = nx.read_graphml('dataviz/hw_1/tree.xml') # считываем граф из файла"
      ],
      "execution_count": 12,
      "outputs": []
    },
    {
      "cell_type": "markdown",
      "metadata": {
        "id": "jokeTsPjAdjh"
      },
      "source": [
        "Создадим список смежности, которым задается дерево"
      ]
    },
    {
      "cell_type": "code",
      "metadata": {
        "id": "goMWyKHpz1mL",
        "colab": {
          "base_uri": "https://localhost:8080/"
        },
        "outputId": "0b814491-6eb1-4884-bef6-b211f11312a0"
      },
      "source": [
        "adj_list = nx.dfs_successors(G)\n",
        "adj_list"
      ],
      "execution_count": 13,
      "outputs": [
        {
          "output_type": "execute_result",
          "data": {
            "text/plain": [
              "{'n0': ['n1', 'n10'],\n",
              " 'n1': ['n2', 'n5'],\n",
              " 'n10': ['n11', 'n13'],\n",
              " 'n11': ['n12'],\n",
              " 'n13': ['n14', 'n15'],\n",
              " 'n2': ['n3', 'n4'],\n",
              " 'n5': ['n6'],\n",
              " 'n6': ['n7'],\n",
              " 'n7': ['n8', 'n9']}"
            ]
          },
          "metadata": {
            "tags": []
          },
          "execution_count": 13
        }
      ]
    },
    {
      "cell_type": "markdown",
      "metadata": {
        "id": "LyDaEczCAquH"
      },
      "source": [
        "Функция поиска корня дерева"
      ]
    },
    {
      "cell_type": "code",
      "metadata": {
        "id": "OcmB3Yse0piS",
        "colab": {
          "base_uri": "https://localhost:8080/",
          "height": 35
        },
        "outputId": "b1898ec5-3fe2-4df0-d5fe-38fbe0f7f954"
      },
      "source": [
        "def find_root(adj_list):\n",
        "  for x in adj_list.keys():\n",
        "    cnt = 0\n",
        "    for v in adj_list.keys():\n",
        "      cnt += adj_list[v].count(x)\n",
        "    if cnt == 0:\n",
        "      return x\n",
        "root = find_root(adj_list)\n",
        "root"
      ],
      "execution_count": 14,
      "outputs": [
        {
          "output_type": "execute_result",
          "data": {
            "application/vnd.google.colaboratory.intrinsic+json": {
              "type": "string"
            },
            "text/plain": [
              "'n0'"
            ]
          },
          "metadata": {
            "tags": []
          },
          "execution_count": 14
        }
      ]
    },
    {
      "cell_type": "markdown",
      "metadata": {
        "id": "_FFj8KZzBdKV"
      },
      "source": [
        "# Реализуем HV алгоритм отрисовки бинарного дерева"
      ]
    },
    {
      "cell_type": "code",
      "metadata": {
        "id": "R-W0lFUNJwtb"
      },
      "source": [
        "# глобальные переменные - словари координат\n",
        "x = dict() \n",
        "y = dict()"
      ],
      "execution_count": 15,
      "outputs": []
    },
    {
      "cell_type": "code",
      "metadata": {
        "id": "A9nkQaywKo5X"
      },
      "source": [
        "from math import inf"
      ],
      "execution_count": 16,
      "outputs": []
    },
    {
      "cell_type": "code",
      "metadata": {
        "id": "-zUrpK32KKEq"
      },
      "source": [
        "for node in G.nodes():\n",
        "  x[node] = inf\n",
        "  y[node] = inf\n",
        "x[root] = 0\n",
        "y[root] = 0"
      ],
      "execution_count": 17,
      "outputs": []
    },
    {
      "cell_type": "code",
      "metadata": {
        "id": "ZCQMC6a8CPUz"
      },
      "source": [
        "def get_children(adj_list, node):\n",
        "  if node not in adj_list.keys() or len(adj_list[node]) == 0:\n",
        "    return []\n",
        "  else:\n",
        "    return adj_list[node]"
      ],
      "execution_count": 18,
      "outputs": []
    },
    {
      "cell_type": "code",
      "metadata": {
        "id": "aDwhIYE1A3wQ"
      },
      "source": [
        "def H_V_algo(graph, parent):\n",
        "  global x, y\n",
        "  adj_list = nx.dfs_successors(graph)\n",
        "  children = get_children(adj_list, parent)\n",
        "  if len(children) == 0:\n",
        "    return x[parent]\n",
        "  elif len(children) == 1:\n",
        "    child = children[0]\n",
        "    x[child] = x[parent] + 1\n",
        "    y[child] = y[parent]\n",
        "    return H_V_algo(graph, child)\n",
        "  else:\n",
        "    left_child = children[0]\n",
        "    right_child = children[1]\n",
        "    x[left_child] = x[parent]\n",
        "    y[left_child] = y[parent] - 1\n",
        "    x[right_child] = H_V_algo(graph, left_child) + 1\n",
        "    y[right_child] = y[parent]\n",
        "    return H_V_algo(graph, right_child)"
      ],
      "execution_count": 19,
      "outputs": []
    },
    {
      "cell_type": "code",
      "metadata": {
        "id": "os2nFA4-A3y3"
      },
      "source": [
        "H_V_algo(graph=G, parent=root)\n",
        "None"
      ],
      "execution_count": 20,
      "outputs": []
    },
    {
      "cell_type": "markdown",
      "metadata": {
        "id": "jw4gl_Zf7edz"
      },
      "source": [
        "Отрисовка графа + сохранение картинки в формате png \\\n",
        "Картинка сохраняется автоматически в папку content на google colab \\\n",
        "Картинка с прочитанным с гитхаба деревом также залита на гитхаб"
      ]
    },
    {
      "cell_type": "code",
      "metadata": {
        "id": "OVZ8SzfQA34M",
        "colab": {
          "base_uri": "https://localhost:8080/",
          "height": 509
        },
        "outputId": "d6a7f458-3751-450d-de6e-ab332506f8e2"
      },
      "source": [
        "import matplotlib.pyplot as plt\n",
        "coordinates = dict()\n",
        "for node in G.nodes():\n",
        "  coordinates[node] = (x[node], y[node])\n",
        "plt.figure(figsize=(20, 10))\n",
        "nx.draw(G, pos=coordinates, with_labels=True, node_size=1500, font_size=20, node_color='y', width=5, edge_color='g')\n",
        "plt.savefig('hv_tree.png')\n",
        "plt.show()\n"
      ],
      "execution_count": 21,
      "outputs": [
        {
          "output_type": "display_data",
          "data": {
            "image/png": "[encoded data removed]",
            "text/plain": [
              "<Figure size 1440x720 with 1 Axes>"
            ]
          },
          "metadata": {
            "tags": []
          }
        }
      ]
    },
    {
      "cell_type": "code",
      "metadata": {
        "id": "Jf5s4GRmA4C-"
      },
      "source": [
        ""
      ],
      "execution_count": 11,
      "outputs": []
    }
  ]
}